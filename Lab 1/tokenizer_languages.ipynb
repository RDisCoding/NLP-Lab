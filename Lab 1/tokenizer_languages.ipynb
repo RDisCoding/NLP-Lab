{
 "cells": [
  {
   "cell_type": "code",
   "execution_count": 1,
   "id": "507d3232",
   "metadata": {},
   "outputs": [],
   "source": [
    "from datasets import load_dataset\n",
    "\n",
    "dataset = load_dataset(\"ai4bharat/IndicCorpV2\", \"indiccorp_v2\", split=\"guj_Gujr\", streaming =True)"
   ]
  },
  {
   "cell_type": "code",
   "execution_count": 7,
   "id": "599c37ee",
   "metadata": {},
   "outputs": [
    {
     "name": "stdout",
     "output_type": "stream",
     "text": [
      "Loaded 1000 text samples\n",
      "Sample 1: આ વીડિયો જુઓ: ઊંઝા માર્કેટયાર્ડ આજથી 25 જુલાઈ સુધી બંધ...\n",
      "Sample 2: ...\n",
      "Sample 3: મિથેનોલ આવ્યો ક્યાંથી?...\n"
     ]
    }
   ],
   "source": [
    "# Convert streaming dataset to list of texts (first 1000 samples)\n",
    "texts = []\n",
    "count = 0\n",
    "for sample in dataset:\n",
    "    texts.append(sample['text'])\n",
    "    count += 1\n",
    "    if count >= 1000:  # Limit to avoid memory issues\n",
    "        break\n",
    "\n",
    "# Preview a few paragraphs\n",
    "print(f\"Loaded {len(texts)} text samples\")\n",
    "for i, text in enumerate(texts[:3]):\n",
    "    print(f\"Sample {i+1}: {text[:100]}...\")"
   ]
  },
  {
   "cell_type": "code",
   "execution_count": 8,
   "id": "e0596b7e",
   "metadata": {},
   "outputs": [],
   "source": [
    "import re\n",
    "\n",
    "# Sentence tokenizer remains the same\n",
    "def sentence_tokenizer(text):\n",
    "    return re.split(r'(?<=[.!?])\\s+', text.strip())\n",
    "\n",
    "# Improved word tokenizer that handles Devanagari + matras\n",
    "def word_tokenizer(sentence):\n",
    "    url_pattern = r'https?://\\S+|www\\.\\S+'\n",
    "    email_pattern = r'\\S+@\\S+\\.\\S+'\n",
    "    date_pattern = r'\\b\\d{1,2}[-/\\.]\\d{1,2}[-/\\.]\\d{2,4}\\b'\n",
    "    number_pattern = r'\\b\\d+(?:\\.\\d+)?\\b'\n",
    "    punctuation_pattern = r'[।॥!\"#$%&\\'()*+,-./:;<=>?@[\\\\]^_`{|}~]'\n",
    "    \n",
    "    # Unicode range for Devanagari letters and matras\n",
    "    gujarati_word_pattern = r'[\\u0A81-\\u0AFF]+'\n",
    "\n",
    "    # Combined pattern for tokenization\n",
    "    combined_pattern = f'({url_pattern}|{email_pattern}|{date_pattern}|{number_pattern}|{gujarati_word_pattern}|{punctuation_pattern})'\n",
    "\n",
    "    return re.findall(combined_pattern, sentence)"
   ]
  },
  {
   "cell_type": "code",
   "execution_count": 9,
   "id": "9dd83f7a",
   "metadata": {},
   "outputs": [
    {
     "name": "stderr",
     "output_type": "stream",
     "text": [
      "100%|██████████| 1000/1000 [00:00<00:00, 20074.30it/s]\n"
     ]
    }
   ],
   "source": [
    "from tqdm import tqdm\n",
    "\n",
    "tokenized_data = []\n",
    "LIMIT = 1000  # Increase if system allows\n",
    "\n",
    "for paragraph in tqdm(texts[:LIMIT]):\n",
    "    sentences = sentence_tokenizer(paragraph)\n",
    "    tokenized_paragraph = [word_tokenizer(sentence) for sentence in sentences]\n",
    "    tokenized_data.append(tokenized_paragraph)"
   ]
  },
  {
   "cell_type": "code",
   "execution_count": 10,
   "id": "81830ee1",
   "metadata": {},
   "outputs": [
    {
     "name": "stdout",
     "output_type": "stream",
     "text": [
      "Tokenized sentences saved to 'tokenized_gujarati_sentences.json'\n"
     ]
    }
   ],
   "source": [
    "import json\n",
    "\n",
    "# Save tokenized data in sentence form\n",
    "sentence_data = []\n",
    "\n",
    "for para_idx, paragraph in enumerate(tokenized_data):\n",
    "    paragraph_sentences = []\n",
    "    for sentence in paragraph:\n",
    "        # Join tokens back into sentence\n",
    "        sentence_text = \" \".join(sentence)\n",
    "        paragraph_sentences.append(sentence_text)\n",
    "    sentence_data.append(paragraph_sentences)\n",
    "\n",
    "# Save to JSON file\n",
    "with open(\"tokenized_gujarati_sentences.json\", \"w\", encoding=\"utf-8\") as f:\n",
    "    json.dump(sentence_data, f, ensure_ascii=False, indent=2)\n",
    "\n",
    "print(\"Tokenized sentences saved to 'tokenized_gujarati_sentences.json'\")\n"
   ]
  },
  {
   "cell_type": "code",
   "execution_count": 11,
   "id": "f0eb7d90",
   "metadata": {},
   "outputs": [
    {
     "name": "stdout",
     "output_type": "stream",
     "text": [
      "Total Sentences: 1946\n",
      "Total Words: 21977\n",
      "Total Characters: 106987\n",
      "Avg. Sentence Length (words): 11.29\n",
      "Avg. Word Length (chars): 4.87\n",
      "Type-Token Ratio (TTR): 0.381\n"
     ]
    }
   ],
   "source": [
    "total_sentences = 0\n",
    "total_words = 0\n",
    "total_chars = 0\n",
    "all_words = []\n",
    "\n",
    "for para in tokenized_data:\n",
    "    total_sentences += len(para)\n",
    "    for sentence in para:\n",
    "        total_words += len(sentence)\n",
    "        total_chars += sum(len(word) for word in sentence)\n",
    "        all_words.extend(sentence)\n",
    "\n",
    "avg_sentence_length = total_words / total_sentences\n",
    "avg_word_length = total_chars / total_words\n",
    "ttr = len(set(all_words)) / len(all_words)\n",
    "\n",
    "print(\"Total Sentences:\", total_sentences)\n",
    "print(\"Total Words:\", total_words)\n",
    "print(\"Total Characters:\", total_chars)\n",
    "print(\"Avg. Sentence Length (words):\", round(avg_sentence_length, 2))\n",
    "print(\"Avg. Word Length (chars):\", round(avg_word_length, 2))\n",
    "print(\"Type-Token Ratio (TTR):\", round(ttr, 4))\n"
   ]
  },
  {
   "cell_type": "code",
   "execution_count": null,
   "id": "4257690a",
   "metadata": {},
   "outputs": [],
   "source": []
  }
 ],
 "metadata": {
  "kernelspec": {
   "display_name": "base",
   "language": "python",
   "name": "python3"
  },
  "language_info": {
   "codemirror_mode": {
    "name": "ipython",
    "version": 3
   },
   "file_extension": ".py",
   "mimetype": "text/x-python",
   "name": "python",
   "nbconvert_exporter": "python",
   "pygments_lexer": "ipython3",
   "version": "3.12.7"
  }
 },
 "nbformat": 4,
 "nbformat_minor": 5
}
